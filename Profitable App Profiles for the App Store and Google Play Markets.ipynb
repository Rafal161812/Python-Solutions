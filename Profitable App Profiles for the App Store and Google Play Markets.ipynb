{
 "cells": [
  {
   "cell_type": "markdown",
   "metadata": {},
   "source": [
    "### Profitable Apps And The Drivers For Growing Our User Base\n",
    "\n",
    "This project is aimed at delivering an analysis of the key performance indicators for the apps sold via [Apple](https://www.apple.com/uk/ios/app-store/) and [Google](https://play.google.com/store?hl=en) store. Having an understanding of the main drivers of our user base in correlation with apps profitablity in each online store should give us a valuable insight to help with all future development work.\n",
    "\n",
    "Our company builds apps that are free to download and install, and our main source of revenue consists of in-app ads.This means our revenue for any given app is mostly influenced by the number of users who use our app — the more users that see and engage with the ads, the better. Our goal for this project is to analyze data to help our developers understand what type of apps are likely to attract more users.\n",
    "\n",
    "\n",
    "### The Summary Overview\n",
    "\n",
    "According to [Statista](https://www.statista.com/statistics/276623/number-of-apps-available-in-leading-app-stores/) Google Play was a market leader in September of 2018 with 2.1 million of apps available for download in its store with Apple taking a comfortable second position with 2 million of iOS apps availabe for download in the iOS App store.\n",
    "\n",
    "![image_apple_vs_google](https://github.com/Rafal161812/Python-Solutions/blob/master/images/statista_google_apps_vs_apple_apps_2018.PNG?raw=true \"Apps available for download in September 2018\")\n",
    "<p style=\"text-align: center;\"> Image Source: [Statista](https://www.statista.com/statistics/276623/number-of-apps-available-in-leading-app-stores/)</p>\n",
    "\n",
    "To start off our analysis we will use two small data sets of which analysis should provide a representative view of the market.\n",
    "\n",
    "* [A data set](https://www.kaggle.com/lava18/google-play-store-apps/home) containing data about approximately 10,000 Adroid apps from Google Play; the data was collected in August 2018\n",
    "* [A data set](https://www.kaggle.com/ramamet4/app-store-apple-data-set-10k-apps/home) containing data about approximately 7,000 apps from the App Store; the data was collected in July 2017\n",
    "\n",
    "As a first port of all we should open both data sets and explore them. To do this, we will create a reusable function called `explore_data()`.\n",
    "\n",
    "\n",
    "\n"
   ]
  },
  {
   "cell_type": "code",
   "execution_count": 1,
   "metadata": {
    "collapsed": true
   },
   "outputs": [],
   "source": [
    "from csv import reader\n",
    "file_open = open(r'AppleStore.csv', encoding='utf8')\n",
    "file_read = reader(file_open)\n",
    "apple_dataset = list(file_read)\n",
    "apple_dataset_header = apple_dataset[0]\n",
    "\n",
    "file_open = open(r'googleplaystore.csv', encoding='utf8')\n",
    "file_read = reader(file_open)\n",
    "google_dataset = list(file_read)\n",
    "google_dataset_header = google_dataset[0]\n"
   ]
  },
  {
   "cell_type": "markdown",
   "metadata": {},
   "source": [
    "The `explore_data()` function created below can be applied using `start` and `end` parametrs that will help us to examine slice of each dataset and the last parameter called `rows_and_cloumns` can be used to display total number of rows in the dataset in question."
   ]
  },
  {
   "cell_type": "code",
   "execution_count": 2,
   "metadata": {
    "collapsed": false
   },
   "outputs": [],
   "source": [
    "def explore_data(dataset,start,end,rows_and_columns = False):\n",
    "    dataset_slice = dataset[start:end]\n",
    "    for row in dataset_slice:\n",
    "        print(row,'\\n') # \\n adds a new (empty) line after each row\n",
    "        \n",
    "    if rows_and_columns is True:\n",
    "        print('Number of rows ', len(dataset))\n",
    "        print('Number of columns:', len(dataset[0]))"
   ]
  },
  {
   "cell_type": "markdown",
   "metadata": {},
   "source": [
    "We are going to print the header and a few sample rows from each file."
   ]
  },
  {
   "cell_type": "code",
   "execution_count": 3,
   "metadata": {
    "collapsed": false,
    "scrolled": false
   },
   "outputs": [
    {
     "name": "stdout",
     "output_type": "stream",
     "text": [
      "\n",
      " ['id', 'track_name', 'size_bytes', 'currency', 'price', 'rating_count_tot', 'rating_count_ver', 'user_rating', 'user_rating_ver', 'ver', 'cont_rating', 'prime_genre', 'sup_devices.num', 'ipadSc_urls.num', 'lang.num', 'vpp_lic'] \n",
      "\n",
      "['284882215', 'Facebook', '389879808', 'USD', '0.0', '2974676', '212', '3.5', '3.5', '95.0', '4+', 'Social Networking', '37', '1', '29', '1'] \n",
      "\n",
      "['389801252', 'Instagram', '113954816', 'USD', '0.0', '2161558', '1289', '4.5', '4.0', '10.23', '12+', 'Photo & Video', '37', '0', '29', '1'] \n",
      "\n",
      "['529479190', 'Clash of Clans', '116476928', 'USD', '0.0', '2130805', '579', '4.5', '4.5', '9.24.12', '9+', 'Games', '38', '5', '18', '1'] \n",
      "\n",
      "Number of rows  7198\n",
      "Number of columns: 16\n"
     ]
    }
   ],
   "source": [
    "# Apple dataset\n",
    "print('\\n',apple_dataset_header,'\\n')\n",
    "explore_data(apple_dataset,1,4,True)\n"
   ]
  },
  {
   "cell_type": "code",
   "execution_count": 4,
   "metadata": {
    "collapsed": false,
    "scrolled": true
   },
   "outputs": [
    {
     "name": "stdout",
     "output_type": "stream",
     "text": [
      "\n",
      " ['App', 'Category', 'Rating', 'Reviews', 'Size', 'Installs', 'Type', 'Price', 'Content Rating', 'Genres', 'Last Updated', 'Current Ver', 'Android Ver'] \n",
      "\n",
      "['Photo Editor & Candy Camera & Grid & ScrapBook', 'ART_AND_DESIGN', '4.1', '159', '19M', '10,000+', 'Free', '0', 'Everyone', 'Art & Design', 'January 7, 2018', '1.0.0', '4.0.3 and up'] \n",
      "\n",
      "['Coloring book moana', 'ART_AND_DESIGN', '3.9', '967', '14M', '500,000+', 'Free', '0', 'Everyone', 'Art & Design;Pretend Play', 'January 15, 2018', '2.0.0', '4.0.3 and up'] \n",
      "\n",
      "['U Launcher Lite – FREE Live Cool Themes, Hide Apps', 'ART_AND_DESIGN', '4.7', '87510', '8.7M', '5,000,000+', 'Free', '0', 'Everyone', 'Art & Design', 'August 1, 2018', '1.2.4', '4.0.3 and up'] \n",
      "\n",
      "Number of rows  10842\n",
      "Number of columns: 13\n"
     ]
    }
   ],
   "source": [
    "# Google dataset\n",
    "print('\\n',google_dataset_header,'\\n')\n",
    "explore_data(google_dataset,1,4,True)"
   ]
  },
  {
   "cell_type": "markdown",
   "metadata": {},
   "source": [
    "Based on the sample data we can see that both datasets share column providing the same information, even if the column names are not called exactly the same.\n",
    "The most useful columns for our analysis will be the following ones:\n",
    "\n",
    "* App name (Apple: `track_name`, Google: `App`)\n",
    "* Price (Apple: `price`, Google: `Price`)\n",
    "* User Rating (Apple: `user_rating`, Google: `Rating`)\n",
    "* Count of Ratings (Apple: `rating_count_tot`, Google: `Reviews`)\n",
    "* Genre (Apple: `prime_genre`, Google: `Genres`)\n"
   ]
  },
  {
   "cell_type": "markdown",
   "metadata": {},
   "source": [
    "## Data Cleaning\n",
    "\n",
    "Our analysis would not be worth a lot if it was based on incorrect data therefore the next step in the process will be data cleaning. We have to make sure that all inaccurate data is detected and either removed or corrected. This includes finding and removal of duplicates."
   ]
  },
  {
   "cell_type": "code",
   "execution_count": 5,
   "metadata": {
    "collapsed": false
   },
   "outputs": [
    {
     "name": "stdout",
     "output_type": "stream",
     "text": [
      "\n",
      "\n",
      "Counf of incorrect entries: 0\n",
      "Incorrect indexes: []\n"
     ]
    }
   ],
   "source": [
    "#Checking Apple data set\n",
    "number_of_columns = len(apple_dataset[0])\n",
    "list_incorrect_indexes = list()\n",
    "for row in apple_dataset[:]:\n",
    "    if not len(row) == number_of_columns:\n",
    "        list_incorrect_indexes.append(apple_dataset.index(row))\n",
    "        print(row)\n",
    "print('\\n')\n",
    "print('Counf of incorrect entries:', len(list_incorrect_indexes))\n",
    "print('Incorrect indexes:',list_incorrect_indexes)"
   ]
  },
  {
   "cell_type": "code",
   "execution_count": 6,
   "metadata": {
    "collapsed": false,
    "scrolled": true
   },
   "outputs": [
    {
     "name": "stdout",
     "output_type": "stream",
     "text": [
      "['Life Made WI-Fi Touchscreen Photo Frame', '1.9', '19', '3.0M', '1,000+', 'Free', '0', 'Everyone', '', 'February 11, 2018', '1.0.19', '4.0 and up']\n",
      "\n",
      "\n",
      "Counf of incorrect entries: 1\n",
      "Incorrect indexes: [10473]\n"
     ]
    }
   ],
   "source": [
    "#Checking Google data set\n",
    "number_of_columns = len(google_dataset[0])\n",
    "list_incorrect_indexes = list()\n",
    "for row in google_dataset[:]:\n",
    "    if not len(row) == number_of_columns:\n",
    "        list_incorrect_indexes.append(google_dataset.index(row))\n",
    "        print(row)\n",
    "print('\\n')        \n",
    "print('Counf of incorrect entries:', len(list_incorrect_indexes))\n",
    "print('Incorrect indexes:',list_incorrect_indexes)"
   ]
  },
  {
   "cell_type": "markdown",
   "metadata": {},
   "source": [
    "Analysing both data sets revealed that Google Play data set has one entry with a missing column. Because we have to be absolutely sure of the correctness of the entire data set it will best to simply remove this record. On the other hand, the fact that only one record in the entire data set has failed this specific check, it gives a confidence as to the integrity of the whole data set."
   ]
  },
  {
   "cell_type": "code",
   "execution_count": 7,
   "metadata": {
    "collapsed": false
   },
   "outputs": [],
   "source": [
    "#removal of the faulty record\n",
    "del google_dataset[10473]"
   ]
  },
  {
   "cell_type": "markdown",
   "metadata": {},
   "source": [
    "Having removed a record from the Google Play data set which failed the data quality check based on the missing column check criteria, we find that other users of this data set report existence of duplicate entries in the [discussion](https://www.kaggle.com/lava18/google-play-store-apps/discussion) section.\n",
    "\n",
    "In order to measure the size of this problem, we are going to run a loop using the `App` column of the data set and measure the following:\n",
    "* number of unique apps in the data set\n",
    "* number of duplicated records\n",
    "* number of unique apps with more than 1 record"
   ]
  },
  {
   "cell_type": "code",
   "execution_count": 8,
   "metadata": {
    "collapsed": false
   },
   "outputs": [
    {
     "name": "stdout",
     "output_type": "stream",
     "text": [
      "Number of unique apps 9659\n",
      "Number of duplicate records: 1181\n",
      "Number of unique apps with duplicate records: 798\n"
     ]
    }
   ],
   "source": [
    "duplicate_apps = dict()\n",
    "unique_apps = list()\n",
    "\n",
    "for app in google_dataset[1:]:\n",
    "    name = app[0]\n",
    "    if name in unique_apps:\n",
    "        duplicate_apps[name] = duplicate_apps.get(name,0) + 1\n",
    "    else:\n",
    "        unique_apps.append(name)\n",
    "\n",
    "        \n",
    "print('Number of unique apps',len(unique_apps))\n",
    "print('Number of duplicate records:',sum(duplicate_apps.values()))\n",
    "print('Number of unique apps with duplicate records:',len(duplicate_apps))"
   ]
  },
  {
   "cell_type": "markdown",
   "metadata": {},
   "source": [
    "Based on the results seen above we can conclude that the Google Play data set contains number of apps with more than 1 duplicate record."
   ]
  },
  {
   "cell_type": "code",
   "execution_count": 9,
   "metadata": {
    "collapsed": false
   },
   "outputs": [
    {
     "name": "stdout",
     "output_type": "stream",
     "text": [
      "Example of an app with duplicate records:  Free Blood Pressure \n",
      "\n",
      "['Free Blood Pressure', 'MEDICAL', 'NaN', '7', '5.7M', '5,000+', 'Free', '0', 'Everyone', 'Medical', 'October 13, 2016', '3.0.0', '4.0.3 and up']\n",
      "['Free Blood Pressure', 'MEDICAL', 'NaN', '7', '5.7M', '5,000+', 'Free', '0', 'Everyone', 'Medical', 'October 13, 2016', '3.0.0', '4.0.3 and up']\n",
      "['Free Blood Pressure', 'MEDICAL', 'NaN', '7', '5.7M', '5,000+', 'Free', '0', 'Everyone', 'Medical', 'October 13, 2016', '3.0.0', '4.0.3 and up']\n"
     ]
    }
   ],
   "source": [
    "i = 0\n",
    "while i == 0:\n",
    "    for key in duplicate_apps:\n",
    "        duplicate_app_example = key\n",
    "        i += 1\n",
    "print('Example of an app with duplicate records: ',duplicate_app_example,'\\n')\n",
    "for app in google_dataset[1:]:\n",
    "    name = app[0]\n",
    "    if name == duplicate_app_example:\n",
    "        print(app)"
   ]
  },
  {
   "cell_type": "markdown",
   "metadata": {},
   "source": [
    "In the code above we have accomplished two things:\n",
    "* we picked a name of duplicate app from a dictionary containing names and counts of duplicate apps\n",
    "* we sampled our Google Play data set using that name to allow for examination of the problem\n",
    "\n",
    "We can immediately see that all columns but one contain the same information for the app called *FastMeet*. The only column differentiating both records is the column corresponding to the number of reviews. Knowing that the number of reviews can only grow over time, we can make a safe assumption here that the record with the highest number of reviews is the most up to date record for this app and we can use this criteria to clean the entire data set affected by this specific data issue."
   ]
  },
  {
   "cell_type": "code",
   "execution_count": 10,
   "metadata": {
    "collapsed": false
   },
   "outputs": [
    {
     "name": "stdout",
     "output_type": "stream",
     "text": [
      "Number of apps in the dictionary: 9659\n"
     ]
    }
   ],
   "source": [
    "d_reviews_max = dict()\n",
    "for row_list in google_dataset[1:]:\n",
    "    name = row_list[0]\n",
    "    reviews = float(row_list[3])\n",
    "    if not name in d_reviews_max:\n",
    "        d_reviews_max[name] = reviews\n",
    "    else:\n",
    "        current_reviews_value = d_reviews_max[name]\n",
    "        if reviews > current_reviews_value:\n",
    "            d_reviews_max[name] = reviews\n",
    "print('Number of apps in the dictionary:',len(d_reviews_max))"
   ]
  },
  {
   "cell_type": "markdown",
   "metadata": {},
   "source": [
    "The piece of code above is a first of the two steps aimed at cleaning the data set from the duplicates. What this code achieved is the following:\n",
    "1. We looped through all records of the Google Play data set and derived the following:\n",
    "    * name of the app\n",
    "    * count of reviews converted to float<br>\n",
    "    <br>\n",
    "2. If the app name is not in the new dictionary that we created, we added that app name as a key to the dictionary and number of reviews as a value of that key. If the opposite is true, we are first assiging the number of reviews for the current row to the variable and then checking if that number is greater than the value of reviews already assigned to the app already existing as the key in the dictionary"
   ]
  },
  {
   "cell_type": "code",
   "execution_count": 11,
   "metadata": {
    "collapsed": false,
    "scrolled": true
   },
   "outputs": [
    {
     "name": "stdout",
     "output_type": "stream",
     "text": [
      "[('Compass', 286454.0), ('Cy-Fair Christian Church', 2.0), ('Antillean Gold Telegram (original version)', 2939.0), ('EO SA Benefits', 0.0), ('Masha and the Bear: Good Night!', 29155.0)]\n"
     ]
    }
   ],
   "source": [
    "temp_list = list()\n",
    "for key,val in d_reviews_max.items():\n",
    "    dictionary_tup = (key,val)\n",
    "    temp_list.append(dictionary_tup)\n",
    "print(temp_list[:5])"
   ]
  },
  {
   "cell_type": "markdown",
   "metadata": {},
   "source": [
    "As seen in the output above, newly created dictionary stores key-value pairs for each app from our data set where the key represents name of each app and the value represents the highest number of reviews we found for each of those apps."
   ]
  },
  {
   "cell_type": "code",
   "execution_count": 12,
   "metadata": {
    "collapsed": false,
    "scrolled": true
   },
   "outputs": [
    {
     "name": "stdout",
     "output_type": "stream",
     "text": [
      "Total number of records in the cleansed data set: 9659\n"
     ]
    }
   ],
   "source": [
    "# Part 2\n",
    "android_clean = list() # this will store our new cleaned data set\n",
    "android_added = list() # this will just store app names\n",
    "for row_list in google_dataset[1:]:\n",
    "    name = row_list[0]\n",
    "    n_reviews = float(row_list[3])\n",
    "    if n_reviews == d_reviews_max[name] and not name in android_added:\n",
    "        android_clean.append(row_list)\n",
    "        android_added.append(name)\n",
    "print('Total number of records in the cleansed data set:',len(android_clean))"
   ]
  },
  {
   "cell_type": "markdown",
   "metadata": {},
   "source": [
    "Part two of the data cleanup process involved creation of a new cleansed data set by looping through the original data set and matching app names and associated numbers of reviews with the dictionary populated in the prior step. As a measure of precaution, additional list, called `android_added` was used in order to ensure that we do not copy duplicate records for all those possible instances where a record with the highest number of reviews was also a duplicate one."
   ]
  },
  {
   "cell_type": "markdown",
   "metadata": {},
   "source": [
    "## Removal of non-English apps"
   ]
  },
  {
   "cell_type": "markdown",
   "metadata": {},
   "source": [
    "Removal of duplicate entries does not complete our data cleaning task. Upon close examination of the app names we can conclude that both data sets contain apps directed at non-English speaking audience. Since English language is the only one used in our organization, it only makes sense to detect and remove all entries associated with apps not directed towards an English-speaking audience."
   ]
  },
  {
   "cell_type": "code",
   "execution_count": 13,
   "metadata": {
    "collapsed": false
   },
   "outputs": [
    {
     "name": "stdout",
     "output_type": "stream",
     "text": [
      "爱奇艺PPS -《欢乐颂2》电视剧热播\n",
      "\n",
      "\n",
      "لعبة تقدر تربح DZ\n"
     ]
    }
   ],
   "source": [
    "print(apple_dataset[814][1])\n",
    "print('\\n')\n",
    "print(android_clean[7940][0])"
   ]
  },
  {
   "cell_type": "markdown",
   "metadata": {},
   "source": [
    "Best approach in this case is to create a function that will identify all app names containg letters or symbols not used in the English language. Python function called **`ord()`** returns a unique number associated with the widely used [ASCII](https://en.wikipedia.org/wiki/ASCII) standard and according to this standard, all characters commonly used in the English language fall within the range from 0 to 127. With this knowledge we can build a function that will discover all characters with a number greater than 127 and make an assumption that all app names containing those characters have been built with non-English audience in mind."
   ]
  },
  {
   "cell_type": "code",
   "execution_count": 14,
   "metadata": {
    "collapsed": false,
    "scrolled": true
   },
   "outputs": [
    {
     "name": "stdout",
     "output_type": "stream",
     "text": [
      "True\n",
      "False\n",
      "False\n",
      "False\n"
     ]
    }
   ],
   "source": [
    "def string_test(astring):\n",
    "    for char in astring:\n",
    "        if ord(char) > 127: return False\n",
    "    return True\n",
    "\n",
    "print(string_test('Instagram'))\n",
    "print(string_test('爱奇艺PPS -《欢乐颂2》电视剧热播'))\n",
    "print(string_test('Docs To Go™ Free Office Suite'))\n",
    "print(string_test('Instachat 😜'))\n",
    "    "
   ]
  },
  {
   "cell_type": "markdown",
   "metadata": {},
   "source": [
    "All characters making up a string can be looped through and application of the **`ord()`** function enables us to pick up on any of those characters not being  used in the English language.\n",
    "\n",
    "The result of the test above reveals that this logic is not flawless and could potentialy exclude valid entries. The emoji symbol and the *TM* trademark symbols are valid characters and yet, because in the ASCII standard their unique numbers are set beyond 127, our new function would exclude all records that contain those symbols.\n",
    "\n",
    "In order to improve the accuracy of this logic a number of special characters could be allowed to be contained within the string. Once could make an observation that since most app names are made of more than 2 or 3 characters, if they have been written in a language other than English, the number of special characters used in the app name will also be greater than 2 or 3. Allowing 3 special characters in the string should reduce the possibility of rejecting valid entries."
   ]
  },
  {
   "cell_type": "code",
   "execution_count": 15,
   "metadata": {
    "collapsed": false
   },
   "outputs": [
    {
     "name": "stdout",
     "output_type": "stream",
     "text": [
      "['284882215', 'Facebook', '389879808', 'USD', '0.0', '2974676', '212', '3.5', '3.5', '95.0', '4+', 'Social Networking', '37', '1', '29', '1'] \n",
      "\n",
      "['389801252', 'Instagram', '113954816', 'USD', '0.0', '2161558', '1289', '4.5', '4.0', '10.23', '12+', 'Photo & Video', '37', '0', '29', '1'] \n",
      "\n",
      "['529479190', 'Clash of Clans', '116476928', 'USD', '0.0', '2130805', '579', '4.5', '4.5', '9.24.12', '9+', 'Games', '38', '5', '18', '1'] \n",
      "\n",
      "Number of rows  6183\n",
      "Number of columns: 16\n"
     ]
    }
   ],
   "source": [
    "def uf_is_english(string):\n",
    "    nonenglish_characters_count = 0\n",
    "    for char in string:\n",
    "        if ord(char) > 127: nonenglish_characters_count +=1\n",
    "    if nonenglish_characters_count > 3: return False\n",
    "    return True\n",
    "\n",
    "# Apple Data Set\n",
    "apple_english = list()    \n",
    "for apple_app in apple_dataset[1:]:\n",
    "    name = apple_app[1]\n",
    "    if not uf_is_english(name) is True: continue\n",
    "    apple_english.append(apple_app)\n",
    "    \n",
    "explore_data(apple_english,0,3,True)"
   ]
  },
  {
   "cell_type": "code",
   "execution_count": 16,
   "metadata": {
    "collapsed": false,
    "scrolled": false
   },
   "outputs": [
    {
     "name": "stdout",
     "output_type": "stream",
     "text": [
      "['Photo Editor & Candy Camera & Grid & ScrapBook', 'ART_AND_DESIGN', '4.1', '159', '19M', '10,000+', 'Free', '0', 'Everyone', 'Art & Design', 'January 7, 2018', '1.0.0', '4.0.3 and up'] \n",
      "\n",
      "['U Launcher Lite – FREE Live Cool Themes, Hide Apps', 'ART_AND_DESIGN', '4.7', '87510', '8.7M', '5,000,000+', 'Free', '0', 'Everyone', 'Art & Design', 'August 1, 2018', '1.2.4', '4.0.3 and up'] \n",
      "\n",
      "['Sketch - Draw & Paint', 'ART_AND_DESIGN', '4.5', '215644', '25M', '50,000,000+', 'Free', '0', 'Teen', 'Art & Design', 'June 8, 2018', 'Varies with device', '4.2 and up'] \n",
      "\n",
      "Number of rows  9614\n",
      "Number of columns: 13\n"
     ]
    }
   ],
   "source": [
    "# Google Data Set\n",
    "android_english = list()\n",
    "for android_app in android_clean[:]:\n",
    "    name = android_app[0]\n",
    "    if not uf_is_english(name) is True: continue\n",
    "    android_english.append(android_app)\n",
    "    \n",
    "explore_data(android_english,0,3,True)"
   ]
  },
  {
   "cell_type": "markdown",
   "metadata": {},
   "source": [
    "### Data Cleaning Finale - Isolation of Free Apps\n",
    "\n",
    "It has been noted at the start of the project that our organization's main source of income are in-app ads therefore the last step in the puzzle of data cleaning will be exclusion of all apps that are not free to buy."
   ]
  },
  {
   "cell_type": "code",
   "execution_count": 17,
   "metadata": {
    "collapsed": false
   },
   "outputs": [
    {
     "name": "stdout",
     "output_type": "stream",
     "text": [
      "Number of free apps: 3222\n"
     ]
    }
   ],
   "source": [
    "# Apple Data Set\n",
    "apple_free = list()    \n",
    "for apple_app in apple_english[:]:\n",
    "    price = float(apple_app[4])\n",
    "    if not price == 0: continue\n",
    "    apple_free.append(apple_app)\n",
    "\n",
    "print('Number of free apps:',len(apple_free))"
   ]
  },
  {
   "cell_type": "code",
   "execution_count": 18,
   "metadata": {
    "collapsed": false
   },
   "outputs": [
    {
     "name": "stdout",
     "output_type": "stream",
     "text": [
      "Number of free apps: 8864\n"
     ]
    }
   ],
   "source": [
    "# Google Data Set\n",
    "android_free = list()    \n",
    "for android_app in android_english[:]:\n",
    "    price = android_app[7]\n",
    "    if not price == '0': continue\n",
    "    android_free.append(android_app)\n",
    "\n",
    "print('Number of free apps:',len(android_free))"
   ]
  },
  {
   "cell_type": "markdown",
   "metadata": {},
   "source": [
    "### Start of Analysis\n",
    "\n",
    "At the start of the project it was mentioned that the number of people using our apps is the main factor behind revenue generation. Since development and deployment of apps into both online stores could prove to be inefficient, a startegy has been employed to ensure that resources are spent in the most efficient way:\n",
    "* Apps are built in its basic form and then deployed to Google Store\n",
    "* If the user response is good, apps are developed further\n",
    "* If after 6 months apps are profitable, iOS version of those apps are built and deployed to the App Store\n",
    "\n",
    "This model ensures that we spent minimal amout of resources in the most cost efficient way. Therefore our first port of call will be to find all those apps that are profitable in both online stores. One of the attributes made available to us in both data sets is app genre and this attribute will be used in the first step of the analysis.  \n",
    "\n",
    "Frequency tables will be the right tool at this stage of the analysis."
   ]
  },
  {
   "cell_type": "code",
   "execution_count": 19,
   "metadata": {
    "collapsed": false,
    "scrolled": true
   },
   "outputs": [
    {
     "name": "stdout",
     "output_type": "stream",
     "text": [
      "Total number of free apps: 3222 \n",
      "\n",
      "Apps by Genre (%):\n",
      "Games : 58.1626\n",
      "Entertainment : 7.8833\n",
      "Photo & Video : 4.9659\n",
      "Education : 3.6623\n",
      "Social Networking : 3.2899\n",
      "Shopping : 2.6071\n",
      "Utilities : 2.514\n",
      "Sports : 2.1415\n",
      "Music : 2.0484\n",
      "Health & Fitness : 2.0174\n",
      "Productivity : 1.7381\n",
      "Lifestyle : 1.5829\n",
      "News : 1.3346\n",
      "Travel : 1.2415\n",
      "Finance : 1.1173\n",
      "Weather : 0.869\n",
      "Food & Drink : 0.807\n",
      "Reference : 0.5587\n",
      "Business : 0.5276\n",
      "Book : 0.4345\n",
      "Navigation : 0.1862\n",
      "Medical : 0.1862\n",
      "Catalogs : 0.1241\n"
     ]
    }
   ],
   "source": [
    "#Step1 - create a frequency table\n",
    "def genre_freq_table(dataset,index):\n",
    "    count_of_records = 0\n",
    "    freq_table = dict()\n",
    "    for list_row in dataset:\n",
    "        genre = list_row[index]\n",
    "        freq_table[genre] = freq_table.get(genre,0)+1\n",
    "        count_of_records += 1\n",
    "\n",
    "        \n",
    "#Step2 - replaces totals with percentage values\n",
    "    for key in freq_table:\n",
    "        freq_table[key] = round((freq_table[key] / count_of_records) * 100,4)\n",
    "        \n",
    "    return freq_table, count_of_records\n",
    "\n",
    "\n",
    "#Step3 - use key-value pairs as tuples to populate new list and use it \n",
    "#        for displaying data\n",
    "def display_table(dataset,index):\n",
    "    freq_table, count_of_records = genre_freq_table(dataset,index)\n",
    "    tbl_display = list()\n",
    "    for key,value in freq_table.items():\n",
    "        tbl_display.append((value,key)) #appending tuples taken from dictionary\n",
    "    tbl_sorted = sorted(tbl_display,reverse = True)\n",
    "\n",
    "    print('Total number of free apps:',count_of_records,'\\n')\n",
    "    print('Apps by Genre (%):')\n",
    "    for tpl in tbl_sorted:\n",
    "        print(tpl[1],':',tpl[0])\n",
    "       \n",
    "display_table(apple_free,11)"
   ]
  },
  {
   "cell_type": "markdown",
   "metadata": {},
   "source": [
    "The output above, showing percentages of free apps built in all different genres for the Apple Store gives us a clear indication of the two things happening:\n",
    "* Number one being that our organization builds apps across various subject matters\n",
    "* Number two being that majority of apps are built in the entertainment sector, mainly games.\n",
    "\n",
    "Apps in the games genre make 58% of all apps created by the company with the second genre, entertainment, falling way behind at almost 8% of all the apps produced by the company. While majority of apps in the Apple store have been built with the aim of satysfying the needs of fun seekers, the remainder of  apps have been spread accros various utility type of genres, including productivity, travel, finance or business and many others. Those apps are less numerous in numbers however ones needs to remmber that it does not indicate the overall user base behind apps in each genre.\n",
    "\n",
    "Will this distribution of apps accros genres repeat in the Google's Play Store data set? Let's find out."
   ]
  },
  {
   "cell_type": "code",
   "execution_count": 20,
   "metadata": {
    "collapsed": false,
    "scrolled": true
   },
   "outputs": [
    {
     "name": "stdout",
     "output_type": "stream",
     "text": [
      "Total number of free apps: 8864 \n",
      "\n",
      "Apps by Genre (%):\n",
      "FAMILY : 18.9079\n",
      "GAME : 9.7247\n",
      "TOOLS : 8.4612\n",
      "BUSINESS : 4.5916\n",
      "LIFESTYLE : 3.9034\n",
      "PRODUCTIVITY : 3.8921\n",
      "FINANCE : 3.7004\n",
      "MEDICAL : 3.5311\n",
      "SPORTS : 3.3958\n",
      "PERSONALIZATION : 3.3168\n",
      "COMMUNICATION : 3.2378\n",
      "HEALTH_AND_FITNESS : 3.0799\n",
      "PHOTOGRAPHY : 2.9445\n",
      "NEWS_AND_MAGAZINES : 2.7978\n",
      "SOCIAL : 2.6625\n",
      "TRAVEL_AND_LOCAL : 2.3353\n",
      "SHOPPING : 2.245\n",
      "BOOKS_AND_REFERENCE : 2.1435\n",
      "DATING : 1.8615\n",
      "VIDEO_PLAYERS : 1.7938\n",
      "MAPS_AND_NAVIGATION : 1.3989\n",
      "FOOD_AND_DRINK : 1.241\n",
      "EDUCATION : 1.162\n",
      "ENTERTAINMENT : 0.9589\n",
      "LIBRARIES_AND_DEMO : 0.9364\n",
      "AUTO_AND_VEHICLES : 0.9251\n",
      "HOUSE_AND_HOME : 0.8236\n",
      "WEATHER : 0.801\n",
      "EVENTS : 0.7107\n",
      "PARENTING : 0.6543\n",
      "ART_AND_DESIGN : 0.6431\n",
      "COMICS : 0.6205\n",
      "BEAUTY : 0.5979\n"
     ]
    }
   ],
   "source": [
    "display_table(android_free,1)"
   ]
  },
  {
   "cell_type": "markdown",
   "metadata": {},
   "source": [
    "Google's App Store data set paints a different picture. First of all, the variety of genres across which apps have been built is greater than that of Apple's Store. Another point we can take is that distribution of apps is more even across different genres. There are clear winners here, with family and game genres taking top two spots, however the tools genre taking third position is very close to matching number of apps within when compared to the game genre.\n",
    "In fact, utility type apps make up majority (over 70%) of all free apps published to the Google's store.\n",
    "\n",
    "It is worth noting here that the column called **`Category`** has been used in the analysis of the Google's Play store data. **`Genres`** column is also available in the same data set however it seems to contain more granual information which would not help at this stage of analysis."
   ]
  },
  {
   "cell_type": "markdown",
   "metadata": {},
   "source": [
    "### Most Popular apps by Genre\n",
    "\n",
    "#### Apple Store\n",
    "\n",
    "What we know so far is the distribution of apps among different genres in both online stores. Information that is missing is which apps have attracted the largest number of users. Bearing in mind that the number of users is the main driver of the profits made from the apps, this aspect will be next step in the analysis.\n",
    "\n",
    "Google's data set offers us number of installs for each app ion the form of a column called **`Installs`** however the set coming from the Apple store does not have this information. Not all is lost here since we can substitute this information with another column in the Apple data set called **`rating_count_total`**. This column should provide as useful information as the **`Install`** column from the Google's data set."
   ]
  },
  {
   "cell_type": "code",
   "execution_count": 21,
   "metadata": {
    "collapsed": false,
    "scrolled": true
   },
   "outputs": [
    {
     "name": "stdout",
     "output_type": "stream",
     "text": [
      "Travel  Average: 28244  Median: 798\n",
      "Reference  Average: 74942  Median: 6614\n",
      "Medical  Average: 612  Median: 566\n",
      "Utilities  Average: 18684  Median: 1110\n",
      "Photo & Video  Average: 28442  Median: 2206\n",
      "Education  Average: 7004  Median: 606\n",
      "Book  Average: 39758  Median: 421\n",
      "News  Average: 21248  Median: 373\n",
      "Productivity  Average: 21028  Median: 8737\n",
      "Navigation  Average: 86090  Median: 8196\n",
      "Health & Fitness  Average: 23298  Median: 2459\n",
      "Social Networking  Average: 71548  Median: 4199\n",
      "Games  Average: 22789  Median: 901\n",
      "Entertainment  Average: 14030  Median: 1197\n",
      "Finance  Average: 31468  Median: 1931\n",
      "Business  Average: 7491  Median: 1150\n",
      "Weather  Average: 52280  Median: 289\n",
      "Sports  Average: 23009  Median: 1628\n",
      "Shopping  Average: 26920  Median: 5936\n",
      "Lifestyle  Average: 16486  Median: 1111\n",
      "Food & Drink  Average: 33334  Median: 1490\n",
      "Music  Average: 57327  Median: 3850\n",
      "Catalogs  Average: 4004  Median: 1229\n"
     ]
    }
   ],
   "source": [
    "from statistics import median\n",
    "freq_table, count_of_records = genre_freq_table(apple_free,11)\n",
    "\n",
    "for key in freq_table:\n",
    "    all_ratings = 0\n",
    "    genre = key\n",
    "    genre_app_count = 0\n",
    "    list_of_app_ratings_in_genre = list()\n",
    "    for i in apple_free:\n",
    "        total_ratings = float(i[5]) # rating_count_tot\n",
    "        total_genre = i[11]  # prime_genre\n",
    "        if total_genre == genre:\n",
    "            all_ratings += total_ratings # couont of all ratings for that genre\n",
    "            genre_app_count += 1\n",
    "            list_of_app_ratings_in_genre.append(total_ratings)\n",
    "    #print(key,int(all_ratings),'Count_of_Apps:',genre_app_count, 'Average:',round(int(all_ratings)/genre_app_count,0),'Median:', int(median(new_list)))\n",
    "    print(key,' Average:',int(round(int(all_ratings)/genre_app_count,0)),' Median:', int(median(sorted(list_of_app_ratings_in_genre))))\n",
    "    "
   ]
  },
  {
   "cell_type": "markdown",
   "metadata": {
    "collapsed": true
   },
   "source": [
    "For each genre in the Apple's data set we have made two calculations. First one, to get the average number of ratings per app in each genre, and second one, to get the median value of all ratings in each genre. The reason why we decided to see median values is because we know that averages are sensitive to outliers. There could be an app or two in each genre with high (or low) number of ratings that would affect the value of the average and leading us to drawing incorrect conclusion.\n",
    "Based on the output above we can make the following conclusions:\n",
    "* Genres with the highest average number of ratings per app are Social Networking (71546), Reference (74942) and Navigation (86090). The average for Navigation genre is based on only 6 apps, therefore one could assume that it does contain one or two apps with a very high number of ratings. Volume of 6 is a very low number when it comes to sample data therefore, we should omit this genre altogether in drawing further conclusions. Social Networking Genre contains 106 apps and the average number of ratings is high however the median is low for that number of apps in the sample data which suggest that while there will be some successful apps in that genre, many others are not doing that well. Reference genre contains only 18 apps and the average is high, median value is also pretty high when compared to others therefore this genre should be on our list for further analysis.\n",
    "\n",
    "\n",
    "* Genres that should be worth of our attention are Productivity and Shopping. The average number of ratings for both genres is not the highest, however when those are referenced with the corresponding median values, we can conclude that those genres are very popular and could present good opportunities for future work. As an example, not surprisingly the Games genre contains the largest number of apps (1874) and the average number of ratings per each app comes out at 22789. However, the median value for Games is only 901, which means that half of all Games (937 apps) attracted insignificant attention from potential customers. Saturation of the games market is huge, and it will be much harder for any developer to release the game that will stand out from the others. On the other side, **Shopping** genre contains 84 apps with the average of ratings at 26920, slightly higher than the Games genre's average. However, the median value for Shopping is a whopping 5936 which means that chances of releasing a successful app in that genre are much higher. With traditional brick and mortar stores being replaced by online shops, it is no wonder that apps in such genre gain on popularity.\n",
    "\n",
    "\n",
    "* Genres we would probably want to avoid are the Weather, Book and News. While Book and Weather have high values of the average ratings per app, all three returned extremely low median values. That means that those groups contain at least 1 outlier, a very successful app with large number of ratings whereas majority of the apps in those genres proved to be undesirable.\n",
    "\n",
    "\n",
    "Let's investigate the Google data set.\n",
    "\n",
    "#### Google Play Store\n",
    "\n",
    "As mentioned before, Google's data set offers a column called **`Installs`** which means total number of downloads for each app. We can use this column along with **`Genres`** in our analysis.\n",
    "\n",
    "Unfortunately our excitment ends right there. Number of installs contained within the Google data is not precise. Instead of exact number of downloads, each app has been marked with an open-ended grouping which could make our comparision even harder (for example: 10,000+, 50,000+ etc.). However, we can simplfy our approach to this by using the bottom value of each range for each app. This will require converting values representing each range into numbers which can be achieved only after removal of other non-numeric characters (commas and plus signs).\n"
   ]
  },
  {
   "cell_type": "code",
   "execution_count": 22,
   "metadata": {
    "collapsed": false,
    "scrolled": true
   },
   "outputs": [
    {
     "name": "stdout",
     "output_type": "stream",
     "text": [
      "SPORTS  Average: 3638640  Median: 100000\n",
      "NEWS_AND_MAGAZINES  Average: 9549178  Median: 50000\n",
      "BUSINESS  Average: 1712290  Median: 1000\n",
      "FAMILY  Average: 3695642  Median: 100000\n",
      "TRAVEL_AND_LOCAL  Average: 13984078  Median: 100000\n",
      "MEDICAL  Average: 120551  Median: 1000\n",
      "PARENTING  Average: 542604  Median: 100000\n",
      "PHOTOGRAPHY  Average: 17840110  Median: 1000000\n",
      "COMMUNICATION  Average: 38456119  Median: 500000\n",
      "VIDEO_PLAYERS  Average: 24727872  Median: 1000000\n",
      "EVENTS  Average: 253542  Median: 1000\n",
      "SOCIAL  Average: 23253652  Median: 100000\n",
      "EDUCATION  Average: 1833495  Median: 1000000\n",
      "FINANCE  Average: 1387692  Median: 10000\n",
      "WEATHER  Average: 5074486  Median: 1000000\n",
      "PRODUCTIVITY  Average: 16787331  Median: 100000\n",
      "HEALTH_AND_FITNESS  Average: 4188822  Median: 500000\n",
      "AUTO_AND_VEHICLES  Average: 647318  Median: 100000\n",
      "MAPS_AND_NAVIGATION  Average: 4056942  Median: 100000\n",
      "LIBRARIES_AND_DEMO  Average: 638504  Median: 10000\n",
      "LIFESTYLE  Average: 1437816  Median: 10000\n",
      "GAME  Average: 15588016  Median: 1000000\n",
      "SHOPPING  Average: 7036877  Median: 1000000\n",
      "ART_AND_DESIGN  Average: 1986335  Median: 100000\n",
      "TOOLS  Average: 10801391  Median: 100000\n",
      "BOOKS_AND_REFERENCE  Average: 8767812  Median: 50000\n",
      "PERSONALIZATION  Average: 5201483  Median: 100000\n",
      "FOOD_AND_DRINK  Average: 1924898  Median: 500000\n",
      "ENTERTAINMENT  Average: 11640706  Median: 1000000\n",
      "BEAUTY  Average: 513152  Median: 50000\n",
      "HOUSE_AND_HOME  Average: 1331541  Median: 500000\n",
      "DATING  Average: 854029  Median: 10000\n",
      "COMICS  Average: 817657  Median: 100000\n"
     ]
    }
   ],
   "source": [
    "from statistics import median\n",
    "freq_table, count_of_records = genre_freq_table(android_free,1)\n",
    "\n",
    "for key in freq_table:\n",
    "    all_installs = 0\n",
    "    genre = key\n",
    "    genre_app_count = 0\n",
    "    list_of_app_installs_in_genre = list()\n",
    "    for i in android_free:\n",
    "        total_installs = i[5].replace(',', '')\n",
    "        total_installs = total_installs.replace('+', '')\n",
    "        total_installs = float(total_installs)\n",
    "        total_genre = i[1]  # category\n",
    "        if total_genre == genre:\n",
    "            all_installs += total_installs # couont of all ratings for that genre\n",
    "            genre_app_count += 1\n",
    "            list_of_app_installs_in_genre.append(total_installs)\n",
    "    #print(key,int(all_installs),'Count_of_Apps:',genre_app_count, 'Average:',int(round(int(all_installs)/genre_app_count,0)),'Median:', int(median(list_of_app_installs_in_genre)))\n",
    "    print(key,' Average:',int(round(int(all_installs)/genre_app_count,0)),' Median:', int(median(sorted(list_of_app_installs_in_genre))))\n",
    "    "
   ]
  },
  {
   "cell_type": "markdown",
   "metadata": {},
   "source": [
    "Even though we are using lower band of the range for each app, we can still use median values in gauging the distribution of apps within reach genre.\n",
    "\n",
    "Analysis of the counts, averages and medians reveals the following facts.\n",
    "The top three genres from the perspective of the average number of installs are communication (38mil+), video_players (24mil+) and social (23mil+). On the flip side, medians for all three genres are not very high. Median for the communication genre is at 500,000 with the other two coming at 100,000. We can deduct that there will be few leading apps in each of those genres that inflate the averages. Let's have a look."
   ]
  },
  {
   "cell_type": "code",
   "execution_count": 23,
   "metadata": {
    "collapsed": false,
    "scrolled": true
   },
   "outputs": [
    {
     "name": "stdout",
     "output_type": "stream",
     "text": [
      "(1000000000.0, 'WhatsApp Messenger')\n",
      "(1000000000.0, 'Skype - free IM & video calls')\n",
      "(1000000000.0, 'Messenger – Text and Video Chat for Free')\n",
      "(1000000000.0, 'Hangouts')\n",
      "(1000000000.0, 'Google Chrome: Fast & Secure')\n",
      "(1000000000.0, 'Gmail')\n",
      "(500000000.0, 'imo free video calls and chat')\n",
      "(500000000.0, 'Viber Messenger')\n",
      "(500000000.0, 'UC Browser - Fast Download Private & Secure')\n",
      "(500000000.0, 'LINE: Free Calls & Messages')\n"
     ]
    }
   ],
   "source": [
    "temp_list = list()\n",
    "for app in android_free:\n",
    "    if app[1] == 'COMMUNICATION': #category\n",
    "        app_name = app[0]\n",
    "        installs = app[5].replace(',', '')\n",
    "        installs = installs.replace('+', '')\n",
    "        installs = float(installs)\n",
    "        temp_list.append((installs,app_name))\n",
    "temp_list = sorted(temp_list, reverse = True)\n",
    "i = 0\n",
    "while i < 10:\n",
    "    print(temp_list[i])\n",
    "    i +=1\n",
    "    "
   ]
  },
  {
   "cell_type": "markdown",
   "metadata": {},
   "source": [
    "As expected the COMMUNICATION category contains 6 apps with more than 1 billion of downloads each. Those outliers do affect the average, let's run the previous code excluding those five top apps."
   ]
  },
  {
   "cell_type": "code",
   "execution_count": 24,
   "metadata": {
    "collapsed": false
   },
   "outputs": [
    {
     "name": "stdout",
     "output_type": "stream",
     "text": [
      " Average: 9191689  Median: 100000\n"
     ]
    }
   ],
   "source": [
    "from statistics import median\n",
    "\n",
    "all_installs = 0\n",
    "genre_app_count = 0\n",
    "list_of_app_installs_in_genre = list()\n",
    "\n",
    "for app in android_free:\n",
    "    total_installs = app[5].replace(',', '')\n",
    "    total_installs = total_installs.replace('+', '')\n",
    "    total_installs = float(total_installs)\n",
    "    total_genre = app[1]  # category\n",
    "    total_installs_string =  app[5]\n",
    "    if total_genre == 'COMMUNICATION':\n",
    "        if not total_installs_string in ('1,000,000,000+','500,000,000+'):\n",
    "            genre_app_count += 1\n",
    "            all_installs += total_installs # couont of all ratings for that genre\n",
    "            list_of_app_installs_in_genre.append(total_installs)\n",
    "\n",
    "print(' Average:',int(round(int(all_installs)/genre_app_count,0)),' Median:', int(median(sorted(list_of_app_installs_in_genre))))\n",
    "    "
   ]
  },
  {
   "cell_type": "markdown",
   "metadata": {},
   "source": [
    "Removal of the most successful apps with more than 500 millions of reduced the average  by roughly 29 millions. If we were to leave all other genres unchanged, it would sill place this genre in the top 11 for the number of average downloads per app. The median went down to 100,000 which means that at least half of all apps in this genre are not very successful.\n",
    "\n",
    "Let's investigate VIDEO PLAYERS, second most successful genre."
   ]
  },
  {
   "cell_type": "code",
   "execution_count": 25,
   "metadata": {
    "collapsed": false,
    "scrolled": true
   },
   "outputs": [
    {
     "name": "stdout",
     "output_type": "stream",
     "text": [
      "(1000000000.0, 'YouTube')\n",
      "(1000000000.0, 'Google Play Movies & TV')\n",
      "(500000000.0, 'MX Player')\n",
      "(100000000.0, 'VivaVideo - Video Editor & Photo Movie')\n",
      "(100000000.0, 'VideoShow-Video Editor, Video Maker, Beauty Camera')\n",
      "(100000000.0, 'VLC for Android')\n",
      "(100000000.0, 'Motorola Gallery')\n",
      "(100000000.0, 'Motorola FM Radio')\n",
      "(100000000.0, 'Dubsmash')\n",
      "(50000000.0, 'Vote for')\n"
     ]
    }
   ],
   "source": [
    "temp_list = list()\n",
    "for app in android_free:\n",
    "    if app[1] == 'VIDEO_PLAYERS': #category\n",
    "        app_name = app[0]\n",
    "        installs = app[5].replace(',', '')\n",
    "        installs = installs.replace('+', '')\n",
    "        installs = float(installs)\n",
    "        temp_list.append((installs,app_name))\n",
    "temp_list = sorted(temp_list, reverse = True)\n",
    "i = 0\n",
    "while i < 10:\n",
    "    print(temp_list[i])\n",
    "    i +=1\n",
    "    "
   ]
  },
  {
   "cell_type": "markdown",
   "metadata": {},
   "source": [
    "Unsurprisingly, two very famous apps, YouTube and Google Play Movies & Mix are the reason behind inflated average. Let's test it again excluding those two apps and also the third one, with over 500mil downloads."
   ]
  },
  {
   "cell_type": "code",
   "execution_count": 26,
   "metadata": {
    "collapsed": false,
    "scrolled": true
   },
   "outputs": [
    {
     "name": "stdout",
     "output_type": "stream",
     "text": [
      " Average: 9191689  Median: 100000\n"
     ]
    }
   ],
   "source": [
    "from statistics import median\n",
    "\n",
    "all_installs = 0\n",
    "genre_app_count = 0\n",
    "list_of_app_installs_in_genre = list()\n",
    "\n",
    "for app in android_free:\n",
    "    total_installs = app[5].replace(',', '')\n",
    "    total_installs = total_installs.replace('+', '')\n",
    "    total_installs = float(total_installs)\n",
    "    total_genre = app[1]  # category\n",
    "    total_installs_string =  app[5]\n",
    "    if total_genre == 'COMMUNICATION':\n",
    "        if not total_installs_string in ('1,000,000,000+','500,000,000+'):\n",
    "            genre_app_count += 1\n",
    "            all_installs += total_installs # couont of all ratings for that genre\n",
    "            list_of_app_installs_in_genre.append(total_installs)\n",
    "\n",
    "print(' Average:',int(round(int(all_installs)/genre_app_count,0)),' Median:', int(median(sorted(list_of_app_installs_in_genre))))\n",
    "    "
   ]
  },
  {
   "cell_type": "markdown",
   "metadata": {},
   "source": [
    "Similarly to the test with the COMMUNICATION genre, the average for the VIDEO PLAYERS went down to 9mil+. Interestingly, the median value remains at 100,000, which means that half of all measured apps in that genre (almost 80 in 159) are not the best performers.\n",
    "\n",
    "Genre we would like to look at closly now is PHOTOGRAPHY and SHOPPING."
   ]
  },
  {
   "cell_type": "code",
   "execution_count": 27,
   "metadata": {
    "collapsed": false,
    "scrolled": false
   },
   "outputs": [
    {
     "name": "stdout",
     "output_type": "stream",
     "text": [
      "(1000000000.0, 'Google Photos')\n",
      "(100000000.0, 'Z Camera - Photo Editor, Beauty Selfie, Collage')\n",
      "(100000000.0, 'YouCam Perfect - Selfie Photo Editor')\n",
      "(100000000.0, 'YouCam Makeup - Magic Selfie Makeovers')\n",
      "(100000000.0, 'Sweet Selfie - selfie camera, beauty cam, photo edit')\n",
      "(100000000.0, 'S Photo Editor - Collage Maker , Photo Collage')\n",
      "(100000000.0, 'Retrica')\n",
      "(100000000.0, 'PicsArt Photo Studio: Collage Maker & Pic Editor')\n",
      "(100000000.0, 'PhotoGrid: Video & Pic Collage Maker, Photo Editor')\n",
      "(100000000.0, 'Photo Editor Pro')\n"
     ]
    }
   ],
   "source": [
    "temp_list = list()\n",
    "for app in android_free:\n",
    "    if app[1] == 'PHOTOGRAPHY': #category\n",
    "        app_name = app[0]\n",
    "        installs = app[5].replace(',', '')\n",
    "        installs = installs.replace('+', '')\n",
    "        installs = float(installs)\n",
    "        temp_list.append((installs,app_name))\n",
    "temp_list = sorted(temp_list, reverse = True)\n",
    "i = 0\n",
    "while i < 10:\n",
    "    print(temp_list[i])\n",
    "    i +=1"
   ]
  },
  {
   "cell_type": "markdown",
   "metadata": {},
   "source": [
    "Google Photos in the PHOTOGRAPHY genre is the app with over 1 billion of downloads, 10 times more than the second best app. Let's remove it and check the average and median."
   ]
  },
  {
   "cell_type": "code",
   "execution_count": 28,
   "metadata": {
    "collapsed": false
   },
   "outputs": [
    {
     "name": "stdout",
     "output_type": "stream",
     "text": [
      " Average: 14062572  Median: 1000000\n"
     ]
    }
   ],
   "source": [
    "from statistics import median\n",
    "\n",
    "all_installs = 0\n",
    "genre_app_count = 0\n",
    "list_of_app_installs_in_genre = list()\n",
    "\n",
    "for app in android_free:\n",
    "    total_installs = app[5].replace(',', '')\n",
    "    total_installs = total_installs.replace('+', '')\n",
    "    total_installs = float(total_installs)\n",
    "    total_genre = app[1]  # category\n",
    "    total_installs_string =  app[5]\n",
    "    if total_genre == 'PHOTOGRAPHY':\n",
    "        if not total_installs_string in ('1,000,000,000+','500,000,000+'):\n",
    "            genre_app_count += 1\n",
    "            all_installs += total_installs # couont of all ratings for that genre\n",
    "            list_of_app_installs_in_genre.append(total_installs)\n",
    "\n",
    "print(' Average:',int(round(int(all_installs)/genre_app_count,0)),' Median:', int(median(sorted(list_of_app_installs_in_genre))))\n",
    "    "
   ]
  },
  {
   "cell_type": "markdown",
   "metadata": {},
   "source": [
    "Removal of the top scoring app reduced the average number of downloads from almost 18 million to 14 million. The median stays the same as before, at 1 million which means that half of all apps in that genre (130 out of 260) attracted at least 1 million of downloads.\n",
    "We can conclude that this particular genre should will only grow over time in popularity. Ability to capture beautiful photos using mobile phones has always been one of the main selling points on today's mobile phone market and the demand for apps allowing people to edit and make those photos even better is a natural result of the boom in the mobile phones technology.\n",
    "\n",
    "**SHOPPING** genre is the second one we want to investigate. We already liked how it performs in the Apple store. According to the analysis of the Google's Store data SHOPPING genre placed 13th with 199 apps averaging 7 millions of downloads and a very strong median of 1 million. Comperetivaly small difference between genre and the median (when compared to other top scoring genres) along with the high median value is what prompted us to investigate this genre in more detail."
   ]
  },
  {
   "cell_type": "code",
   "execution_count": 29,
   "metadata": {
    "collapsed": false,
    "scrolled": true
   },
   "outputs": [
    {
     "name": "stdout",
     "output_type": "stream",
     "text": [
      "(100000000.0, 'eBay: Buy & Sell this Summer - Discover Deals Now!')\n",
      "(100000000.0, 'Wish - Shopping Made Fun')\n",
      "(100000000.0, 'Flipkart Online Shopping App')\n",
      "(100000000.0, 'Amazon Shopping')\n",
      "(100000000.0, 'AliExpress - Smarter Shopping, Better Living')\n",
      "(50000000.0, 'letgo: Buy & Sell Used Stuff, Cars & Real Estate')\n",
      "(50000000.0, 'The birth')\n",
      "(50000000.0, 'OLX - Buy and Sell')\n",
      "(50000000.0, 'Myntra Online Shopping App')\n",
      "(50000000.0, 'Mercado Libre: Find your favorite brands')\n"
     ]
    }
   ],
   "source": [
    "temp_list = list()\n",
    "for app in android_free:\n",
    "    if app[1] == 'SHOPPING': #category\n",
    "        app_name = app[0]\n",
    "        installs = app[5].replace(',', '')\n",
    "        installs = installs.replace('+', '')\n",
    "        installs = float(installs)\n",
    "        temp_list.append((installs,app_name))\n",
    "temp_list = sorted(temp_list, reverse = True)\n",
    "i = 0\n",
    "while i < 10:\n",
    "    print(temp_list[i])\n",
    "    i +=1"
   ]
  },
  {
   "cell_type": "markdown",
   "metadata": {},
   "source": [
    "Top 5 apps in this category are all famous apps with a minimum of 100 million downloads each. Let's remove them from the calculation and re-analyse."
   ]
  },
  {
   "cell_type": "code",
   "execution_count": 30,
   "metadata": {
    "collapsed": false,
    "scrolled": true
   },
   "outputs": [
    {
     "name": "stdout",
     "output_type": "stream",
     "text": [
      " Average: 4640921  Median: 1000000\n"
     ]
    }
   ],
   "source": [
    "from statistics import median\n",
    "\n",
    "all_installs = 0\n",
    "genre_app_count = 0\n",
    "list_of_app_installs_in_genre = list()\n",
    "\n",
    "for app in android_free:\n",
    "    total_installs = app[5].replace(',', '')\n",
    "    total_installs = total_installs.replace('+', '')\n",
    "    total_installs = float(total_installs)\n",
    "    total_genre = app[1]  # category\n",
    "    total_installs_string =  app[5]\n",
    "    if total_genre == 'SHOPPING':\n",
    "        if not total_installs_string in ('100,000,000+'):\n",
    "            genre_app_count += 1\n",
    "            all_installs += total_installs # couont of all ratings for that genre\n",
    "            list_of_app_installs_in_genre.append(total_installs)\n",
    "\n",
    "print(' Average:',int(round(int(all_installs)/genre_app_count,0)),' Median:', int(median(sorted(list_of_app_installs_in_genre))))\n",
    "    "
   ]
  },
  {
   "cell_type": "markdown",
   "metadata": {},
   "source": [
    "The result is at least encouraging. The remaining apps in the SHOPPING genre still average 4.6 million of downloads per app and the median value is left unchanged at 1 million.\n",
    "With more and more people doing their daily shopping online, looking for discounts and deals, market of online shopping is bound to grow at a very fast rate which opens great opportunites for app developers targeting this market.\n",
    "\n",
    "\n",
    "### Conclusion\n",
    "\n",
    "In this project, we went through a complete data science workflow:\n",
    "\n",
    "* We started by clarifying the goal of our project.\n",
    "* We collected relevant data.\n",
    "* We cleaned the data to prepare it for analysis.\n",
    "* We analyzed the cleaned data.\n",
    "\n",
    "All of the above led us to a conslusion that the development of apps in the **shopping** genre may yield a very successful product. Apps in the shopping genre performed very well in both online stores, with the average number of downloads per app scoring higher when compared to other genres and also very strong median values, which have been maintained after removal of the highest scoring apps in the genre.  \n",
    "Not only this, it has been a long term trend for the online sales market growing in a very rapid pace which is expected to continue in the current world we live in, dominated by ever changing technology and a trend of moving out from shopping in the brick and mortar stores."
   ]
  }
 ],
 "metadata": {
  "kernelspec": {
   "display_name": "Python 3",
   "language": "python",
   "name": "python3"
  },
  "language_info": {
   "codemirror_mode": {
    "name": "ipython",
    "version": 3
   },
   "file_extension": ".py",
   "mimetype": "text/x-python",
   "name": "python",
   "nbconvert_exporter": "python",
   "pygments_lexer": "ipython3",
   "version": "3.4.3"
  }
 },
 "nbformat": 4,
 "nbformat_minor": 2
}
