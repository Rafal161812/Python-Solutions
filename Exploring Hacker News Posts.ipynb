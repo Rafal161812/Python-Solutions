{
 "cells": [
  {
   "cell_type": "markdown",
   "metadata": {
    "collapsed": true
   },
   "source": [
    "### Exploring Hacker News\n",
    "\n",
    "\n",
    "[Hacker News](https://news.ycombinator.com/) is a project that came ouf of the startup incubator called [Y Combinator](https://www.ycombinator.com/), where user-submitted stories are voted and commented upon. Hacker News website attracts large volumes of visitors from the technology and startup circles which explain popularity of that portal.\n",
    "  \n",
    "We're specifically interested in posts whose titles begin with either Ask HN or Show HN. **Ask HN** posts are aimed at asking the Hacker News community a specific question. **Show HN** posts are aimed at showing the Hacker News community a project, product, or just generally something interesting\n",
    "\n",
    "Objective of this project is to explore the Hacker News dataset and to answer the following questions:\n",
    "* Which of the two types of posts receive more comments on average\n",
    "* Analyze the distribution of posts over certain times and determine the most popular times\n",
    "\n",
    "\n",
    "The data set contains the following column headers:\n",
    "* **id:**  The unique identifier from Hacker News for the post\n",
    "* **title:** The title of the post\n",
    "* **url:** The URL that the posts links to, if it the post has a URL\n",
    "* **num_points:** The number of points the post acquired, calculated as the total number of upvotes minus the total number of downvotes\n",
    "* **author:** The username of the person who submitted the post\n",
    "* **created_at:** The date and time at which the post was submitted\n",
    "\n",
    "We are going to seperate the headers from the rest of the data for future work on this dataset.\n",
    "Let's read the data and explore first few rows."
   ]
  },
  {
   "cell_type": "code",
   "execution_count": 1,
   "metadata": {
    "collapsed": false,
    "scrolled": true
   },
   "outputs": [
    {
     "name": "stdout",
     "output_type": "stream",
     "text": [
      "['id', 'title', 'url', 'num_points', 'num_comments', 'author', 'created_at'] \n",
      "\n",
      "['12224879', 'Interactive Dynamic Video', 'http://www.interactivedynamicvideo.com/', '386', '52', 'ne0phyte', '8/4/2016 11:52'] \n",
      "\n",
      "['10975351', 'How to Use Open Source and Shut the Fuck Up at the Same Time', 'http://hueniverse.com/2016/01/26/how-to-use-open-source-and-shut-the-fuck-up-at-the-same-time/', '39', '10', 'josep2', '1/26/2016 19:30'] \n",
      "\n",
      "['11964716', \"Florida DJs May Face Felony for April Fools' Water Joke\", 'http://www.thewire.com/entertainment/2013/04/florida-djs-april-fools-water-joke/63798/', '2', '1', 'vezycash', '6/23/2016 22:20'] \n",
      "\n",
      "['11919867', 'Technology ventures: From Idea to Enterprise', 'https://www.amazon.com/Technology-Ventures-Enterprise-Thomas-Byers/dp/0073523429', '3', '1', 'hswarna', '6/17/2016 0:01'] \n",
      "\n"
     ]
    }
   ],
   "source": [
    "from csv import reader\n",
    "open_file = open('hacker_news.csv')\n",
    "read_file = reader(open_file)\n",
    "dataset = list(read_file)\n",
    "\n",
    "hn = dataset[1:] #rest of the data\n",
    "headers = dataset[0] #headers\n",
    "#print(dataset[:5])\n",
    "\n",
    "i = 0\n",
    "while i < 5:\n",
    "    print(dataset[i],\"\\n\")\n",
    "    i += 1"
   ]
  },
  {
   "cell_type": "markdown",
   "metadata": {},
   "source": [
    "### Extraction of *Ask HN* and *Show HN* posts\n",
    "\n",
    "At this point of the analysis we are interested in filtering the data. **Ask HN** ans **Show HN** are the posts of our interest. To get there we are going to create new lists of lists and use the `starts_with()` string method to complete this task. In order to ensure effectivness of this method regardless of the letter case used, we will combine the `starts_with()` method with the `lower()`  method."
   ]
  },
  {
   "cell_type": "code",
   "execution_count": 2,
   "metadata": {
    "collapsed": false
   },
   "outputs": [
    {
     "name": "stdout",
     "output_type": "stream",
     "text": [
      "Ask HN posts: 1744\n",
      "Show HN posts 1162\n",
      "Other posts: 17194\n"
     ]
    }
   ],
   "source": [
    "ask_posts = list()\n",
    "show_posts = list()\n",
    "other_posts = list()\n",
    "\n",
    "for row in hn:\n",
    "    title = row[1]\n",
    "    if title.lower().startswith('ask hn'): ask_posts.append(row)\n",
    "    elif title.lower().startswith('show hn'): show_posts.append(row)\n",
    "    else: other_posts.append(row)\n",
    "        \n",
    "print('Ask HN posts:',len(ask_posts))\n",
    "print('Show HN posts',len(show_posts))\n",
    "print('Other posts:',len(other_posts))"
   ]
  },
  {
   "cell_type": "markdown",
   "metadata": {},
   "source": [
    "### Calculating averagers for the Ask HN and Show HN posts\n",
    "\n",
    "Which type of posts attract more comments in average? Let's find out."
   ]
  },
  {
   "cell_type": "code",
   "execution_count": 3,
   "metadata": {
    "collapsed": false
   },
   "outputs": [
    {
     "name": "stdout",
     "output_type": "stream",
     "text": [
      "Total Ask HN comments: 24483\n",
      "Total Show HN comments: 11988\n",
      "Average number of comments per Ask HN post: 14.0\n",
      "Average number of comments per Show HN post: 10.3\n"
     ]
    }
   ],
   "source": [
    "#Ask HN number of comments\n",
    "ask_posts_comments = 0\n",
    "for row in ask_posts:\n",
    "    ask_posts_comments += int(row[4])\n",
    "ask_posts_average = round(ask_posts_comments / len(ask_posts),1)   \n",
    "    \n",
    "show_posts_comments = 0\n",
    "for row in show_posts:\n",
    "    show_posts_comments += int(row[4])\n",
    "show_posts_average = round(show_posts_comments / len(show_posts),1)   \n",
    "\n",
    "print('Total Ask HN comments:',ask_posts_comments)\n",
    "print('Total Show HN comments:',show_posts_comments)\n",
    "print('Average number of comments per Ask HN post:',ask_posts_average)\n",
    "print('Average number of comments per Show HN post:',show_posts_average)"
   ]
  },
  {
   "cell_type": "markdown",
   "metadata": {},
   "source": [
    "On average the Ask HN posts attract 14 comments per post and Show HN posts attract 10 comments per post."
   ]
  },
  {
   "cell_type": "markdown",
   "metadata": {},
   "source": [
    "### Distribution of comments for the Ask posts per hour\n",
    "\n",
    "Based on the previous step we can see that on average the Ask posts attract more comments than the Show posts therefore we will focus further analysis on that group. \n",
    "We would like to measure now if there are specifc times of the day that attract more comments.  \n",
    "\n",
    "To do this we are going to perform two calculations:\n",
    "* Calculate the amount of ask posts created in each hour of the day, along with the number of comments received.\n",
    "* Calculate the average number of comments ask posts receive by hour created."
   ]
  },
  {
   "cell_type": "code",
   "execution_count": 4,
   "metadata": {
    "collapsed": false
   },
   "outputs": [
    {
     "name": "stdout",
     "output_type": "stream",
     "text": [
      "Count of posts by hour\n",
      "{'09': 45, '02': 58, '23': 68, '11': 58, '19': 110, '10': 59, '07': 34, '00': 55, '04': 47, '20': 80, '21': 109, '01': 60, '12': 73, '05': 46, '08': 48, '14': 107, '06': 44, '18': 109, '17': 100, '03': 54, '16': 108, '15': 116, '22': 71, '13': 85} \n",
      "\n",
      "Count of comments by hour\n",
      "{'09': 251, '02': 1381, '23': 543, '11': 641, '19': 1188, '10': 793, '07': 267, '00': 447, '04': 337, '20': 1722, '21': 1745, '01': 683, '12': 687, '05': 464, '08': 492, '14': 1416, '06': 397, '18': 1439, '17': 1146, '03': 421, '16': 1814, '15': 4477, '22': 479, '13': 1253}\n"
     ]
    }
   ],
   "source": [
    "import datetime as dt\n",
    "\n",
    "result_list = list()\n",
    "posts_by_hour = dict()\n",
    "comments_by_hour = dict()\n",
    "\n",
    "for row in ask_posts:\n",
    "    created_dt_str = row[6]\n",
    "    comments_count = int(row[4])\n",
    "    created_dt = dt.datetime.strptime(created_dt_str,'%m/%d/%Y %H:%M')\n",
    "    #hour = created_dt.hour #alternative way of deriving the hour from the datetime object\n",
    "    hour2 = created_dt.strftime('%H')\n",
    "    result_list.append([hour2,comments_count])\n",
    "\n",
    "for i in result_list:\n",
    "    hour = i[0]\n",
    "    comments_count = i[1]\n",
    "    posts_by_hour[hour] = posts_by_hour.get(hour,0) + 1\n",
    "    comments_by_hour[hour] = comments_by_hour.get(hour,0) + comments_count\n",
    "    \n",
    "print('Count of posts by hour')\n",
    "print(posts_by_hour,'\\n')\n",
    "print('Count of comments by hour')\n",
    "print(comments_by_hour)   "
   ]
  },
  {
   "cell_type": "markdown",
   "metadata": {},
   "source": [
    "We can now use both dictionaries in order to calculate the average number of comments per post per hour."
   ]
  },
  {
   "cell_type": "code",
   "execution_count": 9,
   "metadata": {
    "collapsed": false
   },
   "outputs": [
    {
     "name": "stdout",
     "output_type": "stream",
     "text": [
      "['09', 5.5777777777777775]\n",
      "['02', 23.810344827586206]\n",
      "['23', 7.985294117647059]\n",
      "['11', 11.051724137931034]\n",
      "['19', 10.8]\n",
      "['10', 13.440677966101696]\n",
      "['07', 7.852941176470588]\n",
      "['00', 8.127272727272727]\n",
      "['04', 7.170212765957447]\n",
      "['20', 21.525]\n",
      "['21', 16.009174311926607]\n",
      "['01', 11.383333333333333]\n",
      "['12', 9.41095890410959]\n",
      "['05', 10.08695652173913]\n",
      "['08', 10.25]\n",
      "['14', 13.233644859813085]\n",
      "['06', 9.022727272727273]\n",
      "['18', 13.20183486238532]\n",
      "['17', 11.46]\n",
      "['03', 7.796296296296297]\n",
      "['16', 16.796296296296298]\n",
      "['15', 38.5948275862069]\n",
      "['22', 6.746478873239437]\n",
      "['13', 14.741176470588234]\n"
     ]
    }
   ],
   "source": [
    "avg_by_hour = list()\n",
    "\n",
    "for hour in posts_by_hour:\n",
    "    avg_by_hour.append([hour,comments_by_hour[hour] / posts_by_hour[hour]])\n",
    "for i in avg_by_hour:\n",
    "    print(i)"
   ]
  },
  {
   "cell_type": "markdown",
   "metadata": {},
   "source": [
    "The new list of lists gives us exactly what we need however that data is not sorted so let's fix it."
   ]
  },
  {
   "cell_type": "code",
   "execution_count": 10,
   "metadata": {
    "collapsed": false,
    "scrolled": true
   },
   "outputs": [
    {
     "name": "stdout",
     "output_type": "stream",
     "text": [
      "Top 5 Hours for Ask Posts Comments:\n",
      "15:00   38.59\n",
      "02:00   23.81\n",
      "20:00   21.52\n",
      "16:00   16.80\n",
      "21:00   16.01\n"
     ]
    }
   ],
   "source": [
    "import datetime as dt\n",
    "\n",
    "swap_avg_by_hour = list()\n",
    "for i in avg_by_hour:\n",
    "    hour = i[0]\n",
    "    avg = i[1]\n",
    "    swap_avg_by_hour.append([avg,hour])\n",
    "sorted_swap = sorted(swap_avg_by_hour, reverse = True)\n",
    "print('Top 5 Hours for Ask Posts Comments:')\n",
    "\n",
    "for i in sorted_swap[:5]:\n",
    "    hour = i[1] #string\n",
    "    avg = i[0] #float\n",
    "    hour = dt.datetime.strptime(hour,'%H')\n",
    "    hour_str = hour.strftime('%H:%M')\n",
    "    print(hour_str,' ','{:.2f}'.format(avg))\n",
    "    "
   ]
  },
  {
   "cell_type": "markdown",
   "metadata": {},
   "source": [
    "### Conclusion\n",
    "\n",
    "Based on the findings above we can see that 3 pm (Eastern Time in the US) is the most popular time that attracts most comments. The second best time is at 2:00 am and it is nowhere near as good as the top 1 recording 38% reduction of comments when compared to the volumes recorded at 3pm.\n",
    "\n",
    "This project allowed us to accomplish the following:\n",
    "* Set the goal for the project\n",
    "* Collect and store the data\n",
    "* Clean and prepare the data for analysis\n",
    "* Analyze the data and derive conclusion\n",
    "\n",
    "We have determined which types of posts and which time of the day are the most popular for attracting most comments. If one was to take the advantage of this analysis, the times between 15:00 - 17:00, 20:00 - 22:00 and also between 02:00 - 03:00 are when the Hacker News community is most active and chances of attracting comments at those times are at the highest."
   ]
  }
 ],
 "metadata": {
  "kernelspec": {
   "display_name": "Python 3",
   "language": "python",
   "name": "python3"
  },
  "language_info": {
   "codemirror_mode": {
    "name": "ipython",
    "version": 3
   },
   "file_extension": ".py",
   "mimetype": "text/x-python",
   "name": "python",
   "nbconvert_exporter": "python",
   "pygments_lexer": "ipython3",
   "version": "3.4.3"
  }
 },
 "nbformat": 4,
 "nbformat_minor": 2
}
